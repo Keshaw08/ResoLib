{
 "cells": [
  {
   "cell_type": "code",
   "execution_count": 1,
   "metadata": {},
   "outputs": [
    {
     "name": "stdout",
     "output_type": "stream",
     "text": [
      "arr : [25 51 94  3 61 99 23 57 52 46 51 32 47 38 89]\n",
      "Enter the kth value:6\n",
      "K'th minimum element is 46\n"
     ]
    }
   ],
   "source": [
    "\n",
    "import numpy as np\n",
    "\n",
    "def kthminimum(arr, l, r, k):\n",
    "    \n",
    "    if (k > 0 and k <= r - l + 1):\n",
    "        pos = partition(arr, l, r)\n",
    "\n",
    "        if (pos - l == k - 1):\n",
    "            return arr[pos]\n",
    "        if (pos - l > k - 1): \n",
    "            return kthminimum (arr, l, pos - 1, k)\n",
    "\n",
    "        return kthminimum(arr, pos + 1, r, k - pos + l - 1)\n",
    "\n",
    "def partition(arr, l, r):\n",
    "\n",
    "    x = arr[r]\n",
    "    i = l\n",
    "    for j in range(l, r):\n",
    "        if (arr[j] <= x):\n",
    "            arr[i], arr[j] = arr[j], arr[i]\n",
    "            i += 1\n",
    "    arr[i], arr[r] = arr[r], arr[i]\n",
    "    return i\n",
    "\n",
    "if __name__ == \"__main__\":\n",
    "    \n",
    "    arr = np.random.randint(0,100,15)\n",
    "    print(\"arr :\",arr)\n",
    "    n = len(arr)\n",
    "    k = int(input(\"Enter the kth value:\"));\n",
    "    print(\"K'th minimum element is\",kthminimum(arr, 0, n - 1, k))"
   ]
  },
  {
   "cell_type": "code",
   "execution_count": null,
   "metadata": {},
   "outputs": [],
   "source": []
  }
 ],
 "metadata": {
  "kernelspec": {
   "display_name": "Python 3",
   "language": "python",
   "name": "python3"
  },
  "language_info": {
   "codemirror_mode": {
    "name": "ipython",
    "version": 3
   },
   "file_extension": ".py",
   "mimetype": "text/x-python",
   "name": "python",
   "nbconvert_exporter": "python",
   "pygments_lexer": "ipython3",
   "version": "3.8.3"
  }
 },
 "nbformat": 4,
 "nbformat_minor": 4
}
