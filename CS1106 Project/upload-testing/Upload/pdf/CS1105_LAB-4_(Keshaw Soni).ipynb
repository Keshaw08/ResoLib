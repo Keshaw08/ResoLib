{
 "cells": [
  {
   "cell_type": "markdown",
   "metadata": {},
   "source": [
    "    Name - Keshaw Soni\n",
    "    Roll no. - 2020BTechCSE039\n",
    "    Batch - B"
   ]
  },
  {
   "cell_type": "markdown",
   "metadata": {},
   "source": [
    "Q. Implement Quick Sort as explained in the last class. Compare with previous sorting algorithm."
   ]
  },
  {
   "cell_type": "markdown",
   "metadata": {},
   "source": [
    "Quick Sort Algorithm"
   ]
  },
  {
   "cell_type": "code",
   "execution_count": 1,
   "metadata": {},
   "outputs": [],
   "source": [
    "import time\n",
    "import numpy as np"
   ]
  },
  {
   "cell_type": "code",
   "execution_count": 2,
   "metadata": {},
   "outputs": [
    {
     "name": "stdout",
     "output_type": "stream",
     "text": [
      "Sorted array is\n",
      "[ 32  49  63 103 111 122 143 147 168 175 210 215 228 234 242 244 251 258\n",
      " 263 299 300 315 319 339 341 350 374 390 393 403 405 418 425 432 433 437\n",
      " 448 451 460 465 475 477 478 479 507 531 541 541 545 547 548 561 572 573\n",
      " 609 612 630 631 638 646 657 666 684 691 693 699 706 708 716 731 732 732\n",
      " 734 752 756 758 770 773 807 809 825 856 865 872 882 901 922 923 924 940\n",
      " 951 959 964 972 973 988 990 993 993 996]\n",
      "\n",
      "Time Taken:\n",
      "0.002016305923461914\n"
     ]
    }
   ],
   "source": [
    "def merge(arr, l, m, r):\n",
    "    n1 = m - l + 1\n",
    "    n2 = r - m\n",
    " \n",
    "    L = [0] * (n1)\n",
    "    R = [0] * (n2)\n",
    " \n",
    "    for i in range(0, n1):\n",
    "        L[i] = arr[l + i]\n",
    " \n",
    "    for j in range(0, n2):\n",
    "        R[j] = arr[m + 1 + j]\n",
    " \n",
    "    i = 0    \n",
    "    j = 0     \n",
    "    k = l    \n",
    " \n",
    "    while i < n1 and j < n2:\n",
    "        if L[i] <= R[j]:\n",
    "            arr[k] = L[i]\n",
    "            i += 1\n",
    "        else:\n",
    "            arr[k] = R[j]\n",
    "            j += 1\n",
    "        k += 1\n",
    "\n",
    "    while i < n1:\n",
    "        arr[k] = L[i]\n",
    "        i += 1\n",
    "        k += 1\n",
    "\n",
    "    while j < n2:\n",
    "        arr[k] = R[j]\n",
    "        j += 1\n",
    "        k += 1 \n",
    "def mergeSort(arr, l, r):\n",
    "    if l < r:\n",
    "\n",
    "        m = l+(r-l)//2\n",
    "\n",
    "        mergeSort(arr, l, m)\n",
    "        mergeSort(arr, m+1, r)\n",
    "        merge(arr, l, m, r)\n",
    "\n",
    "arr = np.random.randint(1,1000,100)\n",
    "\n",
    "n = len(arr)\n",
    " \n",
    "mergeSortStartL = time.time()\n",
    "mergeSort(arr, 0, n-1)\n",
    "mergeSortEndL = time.time()\n",
    "mergeSortTimeL = mergeSortEndL - mergeSortStartL\n",
    "print(\"Sorted array is\")\n",
    "print(arr)\n",
    "print(\"\\nTime Taken:\")\n",
    "print(mergeSortTimeL)"
   ]
  },
  {
   "cell_type": "markdown",
   "metadata": {},
   "source": [
    "Merge Sort Algorithm"
   ]
  },
  {
   "cell_type": "code",
   "execution_count": 3,
   "metadata": {},
   "outputs": [
    {
     "name": "stdout",
     "output_type": "stream",
     "text": [
      "Unsorted Array\n",
      "\n",
      "[681  82 984 701 682 219 825 827 621 715 218 667 510 527 536 781 576 372\n",
      " 349 632 218 150 301 297 612 305 959 517 595 330 991 387 523 453 561 512\n",
      " 227 777 897  40 540 269 930 775 937 715  55 241 686 622 309 435 192 711\n",
      " 639 167 908 219 943 803 638 355 589 546 954 377 486  42 829 108 594 614\n",
      " 844 584 706 502 494 850 650 463 485 225 459 499 624 516 462 640 633 635\n",
      " 487 929 351 457 354 497 939 621 476 311]\n",
      "\n",
      "Sorted Array in Ascending Order\n",
      "\n",
      "[ 40  42  55  82 108 150 167 192 218 218 219 219 225 227 241 269 297 301\n",
      " 305 309 311 330 349 351 354 355 372 377 387 435 453 457 459 462 463 476\n",
      " 485 486 487 494 497 499 502 510 512 516 517 523 527 536 540 546 561 576\n",
      " 584 589 594 595 612 614 621 621 622 624 632 633 635 638 639 640 650 667\n",
      " 681 682 686 701 706 711 715 715 775 777 781 803 825 827 829 844 850 897\n",
      " 908 929 930 937 939 943 954 959 984 991]\n",
      "\n",
      "Time taken to sort array: 0.001995086669921875\n"
     ]
    }
   ],
   "source": [
    "import time\n",
    "import numpy as np\n",
    "\n",
    "def partition(array, low, high):\n",
    "  pivot = array[high]\n",
    "\n",
    "  i = low-1\n",
    "\n",
    "  for j in range(low, high):\n",
    "    if array[j] <= pivot:\n",
    "      i = i+1\n",
    "\n",
    "      (array[i], array[j]) = (array[j], array[i])\n",
    "\n",
    "  (array[i+1], array[high]) = (array[high], array[i+1])\n",
    "\n",
    "  return i+1\n",
    "\n",
    "def quickSort(array, low, high):\n",
    "  if low < high:\n",
    "\n",
    "    pivot = partition(array, low, high)\n",
    "\n",
    "    quickSort(array, low, pivot-1)\n",
    "\n",
    "    quickSort(array, pivot+1, high)\n",
    "\n",
    "quickArray = np.random.randint(0,1000,100)\n",
    "\n",
    "print(\"Unsorted Array\\n\")\n",
    "print(quickArray)\n",
    "\n",
    "size = len(quickArray)\n",
    "\n",
    "start=time.time()\n",
    "quickSort(quickArray, 0, size-1)\n",
    "end = time.time()\n",
    "\n",
    "time = end-start\n",
    "\n",
    "print('\\nSorted Array in Ascending Order\\n')\n",
    "print(quickArray)\n",
    "print(\"\\nTime taken to sort array:\", time)"
   ]
  },
  {
   "cell_type": "code",
   "execution_count": 4,
   "metadata": {},
   "outputs": [],
   "source": [
    "import random\n",
    "size = []\n",
    "data_arr = []\n",
    "for i in range(10):\n",
    "    s = random.randrange(50,200)\n",
    "    size.append(s)\n",
    "    data_arr.append(np.random.randint(0,1000,s))\n",
    "    "
   ]
  },
  {
   "cell_type": "code",
   "execution_count": 5,
   "metadata": {},
   "outputs": [],
   "source": [
    "import time\n",
    "time_qs = []\n",
    "\n",
    "\n",
    "for i in range(10):\n",
    "    start = time.time()\n",
    "    quickSort(data_arr[i], 0,len(data_arr[i])-1)\n",
    "    end = time.time()\n",
    "    time_qs.append(end-start)"
   ]
  },
  {
   "cell_type": "code",
   "execution_count": 6,
   "metadata": {},
   "outputs": [],
   "source": [
    "import time\n",
    "time_merge = []\n",
    "\n",
    "\n",
    "for i in range(10):\n",
    "    start = time.time()\n",
    "    mergeSort(data_arr[i], 0,len(data_arr[i])-1)\n",
    "    end = time.time()\n",
    "    time_merge.append(end-start)"
   ]
  },
  {
   "cell_type": "code",
   "execution_count": 7,
   "metadata": {},
   "outputs": [],
   "source": [
    "for i in range(10):\n",
    "\n",
    "    for j in range(0, 10-i-1):\n",
    "        if size[j] > size[j+1] :\n",
    "            temp = size[j]\n",
    "            size[j] = size[j+1]\n",
    "            size[j+1] = temp\n",
    "            temp = time_qs[j]\n",
    "            time_qs[j] = time_qs[j+1]\n",
    "            time_qs[j+1] = temp\n",
    "            temp = time_merge[j]\n",
    "            time_merge[j] = time_merge[j+1]\n",
    "            time_merge[j+1] = temp"
   ]
  },
  {
   "cell_type": "code",
   "execution_count": 8,
   "metadata": {},
   "outputs": [
    {
     "data": {
      "image/png": "[encoded data removed]",
      "text/plain": [
       "<Figure size 432x288 with 1 Axes>"
      ]
     },
     "metadata": {
      "needs_background": "light"
     },
     "output_type": "display_data"
    },
    {
     "name": "stdout",
     "output_type": "stream",
     "text": [
      "MergeSort Code - Green\n",
      "Quick Code - Red\n"
     ]
    }
   ],
   "source": [
    "import matplotlib.pyplot as plt\n",
    "plt.plot(size, time_qs,color=\"red\")\n",
    "plt.plot(size, time_merge,color=\"green\")\n",
    "plt.xlabel('Input Size')\n",
    "plt.ylabel('Execution Time taken')\n",
    "plt.title('Comparison Graph of algorithm')\n",
    "plt.show()\n",
    "\n",
    "print(\"MergeSort Code - Green\")\n",
    "print(\"Quick Code - Red\")"
   ]
  },
  {
   "cell_type": "code",
   "execution_count": null,
   "metadata": {},
   "outputs": [],
   "source": []
  }
 ],
 "metadata": {
  "kernelspec": {
   "display_name": "Python 3",
   "language": "python",
   "name": "python3"
  },
  "language_info": {
   "codemirror_mode": {
    "name": "ipython",
    "version": 3
   },
   "file_extension": ".py",
   "mimetype": "text/x-python",
   "name": "python",
   "nbconvert_exporter": "python",
   "pygments_lexer": "ipython3",
   "version": "3.8.5"
  }
 },
 "nbformat": 4,
 "nbformat_minor": 4
}
