{
 "cells": [
  {
   "cell_type": "markdown",
   "metadata": {},
   "source": [
    "    Name - Keshaw Soni\n",
    "    Roll no. - 2020BTechCSE039\n",
    "    Batch - B"
   ]
  },
  {
   "cell_type": "markdown",
   "metadata": {},
   "source": [
    "Q - Kth minimum element program."
   ]
  },
  {
   "cell_type": "code",
   "execution_count": 4,
   "metadata": {},
   "outputs": [
    {
     "name": "stdout",
     "output_type": "stream",
     "text": [
      "\n",
      "Sorted Array in Ascending Order\n",
      "\n",
      "[ 1 13 16 23 35 35 45 48 56 70 75 77 77 80 84 86 90 91 95 99]\n",
      "\n",
      "Enter the value for K : 8\n",
      "\n",
      "K'th smallest element is :  48\n"
     ]
    }
   ],
   "source": [
    "import numpy as np\n",
    "\n",
    "def partition(array, low, high):\n",
    "    pivot = array[high]\n",
    "    i = low-1\n",
    "\n",
    "    for j in range(low, high):\n",
    "        if array[j] <= pivot:\n",
    "            i = i+1\n",
    "            (array[i], array[j]) = (array[j], array[i])\n",
    "    (array[i+1], array[high]) = (array[high], array[i+1])\n",
    "\n",
    "    return i+1\n",
    "\n",
    "def kthSmallest(arr, l, r, k):\n",
    "\n",
    "    if (k > 0 and k <= r - l + 1):\n",
    "        pos = partition(arr, l, r)\n",
    "        if (pos - l == k - 1):\n",
    "            return arr[pos]\n",
    "        if (pos - l > k - 1): \n",
    "            return kthSmallest(arr, l, pos - 1, k)\n",
    "        return kthSmallest(arr, pos + 1, r,k - pos + l - 1)\n",
    "\n",
    "def quickSort(array, low, high):\n",
    "    if low < high:\n",
    "\n",
    "        pivot = partition(array, low, high)\n",
    "        quickSort(array, low, pivot-1)\n",
    "        quickSort(array, pivot+1, high)\n",
    "\n",
    "quickArray = np.random.randint(0,100,20)\n",
    "size = len(quickArray)\n",
    "\n",
    "quickSort(quickArray, 0, size-1)\n",
    "print('\\nSorted Array in Ascending Order\\n')\n",
    "print(quickArray)\n",
    "\n",
    "k = int(input(\"\\nEnter the value for K : \"))\n",
    "print(\"\\nK'th smallest element is : \",kthSmallest(quickArray, 0, size - 1, k))"
   ]
  },
  {
   "cell_type": "code",
   "execution_count": null,
   "metadata": {},
   "outputs": [],
   "source": []
  }
 ],
 "metadata": {
  "kernelspec": {
   "display_name": "Python 3",
   "language": "python",
   "name": "python3"
  },
  "language_info": {
   "codemirror_mode": {
    "name": "ipython",
    "version": 3
   },
   "file_extension": ".py",
   "mimetype": "text/x-python",
   "name": "python",
   "nbconvert_exporter": "python",
   "pygments_lexer": "ipython3",
   "version": "3.8.5"
  }
 },
 "nbformat": 4,
 "nbformat_minor": 4
}
